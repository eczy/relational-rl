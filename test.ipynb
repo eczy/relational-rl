{
 "cells": [
  {
   "cell_type": "code",
   "execution_count": 4,
   "metadata": {},
   "outputs": [],
   "source": [
    "from box_world_env import BoxWorld\n",
    "import torch\n",
    "from torch.utils.data import Dataset, DataLoader\n",
    "import torch.autograd as autograd         # computation graph\n",
    "from torch import Tensor                  # tensor node in the computation graph\n",
    "import torch.nn as nn                     # neural networks\n",
    "import torch.nn.functional as F           # layers, activations and more\n",
    "import torch.optim as optim               # optimizers e.g. gradient descent, ADAM, etc.\n",
    "from torch.jit import script, trace       # hybrid frontend decorator and tracing jit"
   ]
  },
  {
   "cell_type": "code",
   "execution_count": 399,
   "metadata": {},
   "outputs": [],
   "source": [
    "import numpy as np\n",
    "from torchvision import transforms"
   ]
  },
  {
   "cell_type": "code",
   "execution_count": 400,
   "metadata": {},
   "outputs": [],
   "source": [
    "def conv3x3(in_planes, out_planes, stride=1, groups=1, dilation=1):\n",
    "    \"\"\"3x3 convolution with padding\"\"\"\n",
    "    return nn.Conv2d(in_planes, out_planes, kernel_size=3, stride=stride,\n",
    "                     padding=dilation, groups=groups, bias=False, dilation=dilation)\n",
    "\n",
    "class BasicBlock(nn.Module):\n",
    "    expansion = 1\n",
    "\n",
    "    def __init__(self, inplanes, planes, stride=1, downsample=None, groups=1,\n",
    "                 base_width=64, dilation=1, norm_layer=None):\n",
    "        super(BasicBlock, self).__init__()\n",
    "        if norm_layer is None:\n",
    "            norm_layer = nn.BatchNorm2d\n",
    "        if groups != 1 or base_width != 64:\n",
    "            raise ValueError('BasicBlock only supports groups=1 and base_width=64')\n",
    "        if dilation > 1:\n",
    "            raise NotImplementedError(\"Dilation > 1 not supported in BasicBlock\")\n",
    "        # Both self.conv1 and self.downsample layers downsample the input when stride != 1\n",
    "        self.conv1 = conv3x3(inplanes, planes, stride)\n",
    "        self.bn1 = norm_layer(planes)\n",
    "        self.relu = nn.ReLU(inplace=True)\n",
    "        self.conv2 = conv3x3(planes, planes)\n",
    "        self.bn2 = norm_layer(planes)\n",
    "        self.downsample = downsample\n",
    "        self.stride = stride\n",
    "\n",
    "    def forward(self, x):\n",
    "        identity = x\n",
    "\n",
    "        out = self.conv1(x)\n",
    "        out = self.bn1(out)\n",
    "        out = self.relu(out)\n",
    "\n",
    "        out = self.conv2(out)\n",
    "        out = self.bn2(out)\n",
    "\n",
    "        if self.downsample is not None:\n",
    "            identity = self.downsample(x)\n",
    "\n",
    "        out += identity\n",
    "        out = self.relu(out)\n",
    "\n",
    "        return out"
   ]
  },
  {
   "cell_type": "code",
   "execution_count": 884,
   "metadata": {},
   "outputs": [],
   "source": [
    "class ChannelMaxPool(nn.Module):\n",
    "    def forward(self, x):\n",
    "        N, C, = x.shape[:2]\n",
    "        return torch.max(x.reshape(N, C, -1), 2)[0]"
   ]
  },
  {
   "cell_type": "code",
   "execution_count": 885,
   "metadata": {},
   "outputs": [],
   "source": [
    "class ConcatCoords(nn.Module):\n",
    "    # assume X is of shape N, C, H, W\n",
    "    # TODO: generalize to arbitrary dimensions\n",
    "    def forward(self, x):\n",
    "        N, C, H, W = x.shape\n",
    "        coords = torch.empty(N, 2, H, W).double()\n",
    "        # x coordinate\n",
    "        coords[:, 0, :, :] = 2 * (torch.arange(W, dtype=torch.double).reshape(-1, 1).repeat(1, W) / W) - 1\n",
    "        # y coordinate\n",
    "        coords[:, 1, :, :] = 2 * (torch.arange(H, dtype=torch.double).reshape(1, -1).repeat(H, 1) / H) - 1\n",
    "        x = torch.cat([x, coords], 1)\n",
    "        return x\n",
    "    "
   ]
  },
  {
   "cell_type": "code",
   "execution_count": 886,
   "metadata": {},
   "outputs": [],
   "source": [
    "class MHDPA(nn.Module):\n",
    "    def __init__(self, entity_dim, qkv_dim, n_heads):\n",
    "        super().__init__()\n",
    "        self.entity_dim = entity_dim\n",
    "        self.qkv_dim = qkv_dim\n",
    "        self.n_heads = n_heads\n",
    "        self.d = self.qkv_dim // n_heads\n",
    "        assert self.d * n_heads == self.qkv_dim, \"Number of heads must evenly divide QKV dimension\"\n",
    "\n",
    "        self.Wq = nn.Linear(entity_dim, qkv_dim)\n",
    "        self.Wv = nn.Linear(entity_dim, qkv_dim)\n",
    "        self.Wk = nn.Linear(entity_dim, qkv_dim)\n",
    "\n",
    "        self.attention_weights = None\n",
    "\n",
    "    def forward(self, q, k, v):\n",
    "        N = q.size(0)\n",
    "\n",
    "        # linear projections, layer normalizations, reshaping to heads x d\n",
    "        q = nn.functional.layer_norm(self.Wq(q), [self.qkv_dim]).view(N, -1, self.n_heads, self.d).transpose(1, 2)\n",
    "        k = nn.functional.layer_norm(self.Wk(k), [self.qkv_dim]).view(N, -1, self.n_heads, self.d).transpose(1, 2)\n",
    "        v = nn.functional.layer_norm(self.Wv(v), [self.qkv_dim]).view(N, -1, self.n_heads, self.d).transpose(1, 2)\n",
    "        interactions, self.attention_weights = self.attention(q, k, v)\n",
    "        x = interactions.transpose(1, 2).contiguous().view(N, -1, self.n_heads * self.d)\n",
    "        return x\n",
    "\n",
    "        \n",
    "    def attention(self, q, k, v):\n",
    "        d = q.size(-1)\n",
    "        saliencies = torch.matmul(q, k.transpose(-2, -1)) / np.sqrt(d)\n",
    "        weights = torch.nn.functional.softmax(saliencies, dim=-1)\n",
    "        return torch.matmul(weights, v), weights\n",
    "\n",
    "class ResidualMLP(nn.Module):\n",
    "    def __init__(self, dim):\n",
    "        super().__init__()\n",
    "        self.dim = dim\n",
    "\n",
    "        self.lin1 = nn.Linear(dim, dim)\n",
    "        self.lin2 = nn.Linear(dim, dim)\n",
    "\n",
    "    def forward(self, x):\n",
    "        y = nn.functional.relu(self.lin1(x))\n",
    "        y = nn.functional.relu(self.lin2(x))\n",
    "        y = y + x\n",
    "        y = nn.functional.layer_norm(y, [y.size(-1)])\n",
    "        return y\n",
    "\n",
    "class RelationalBlock(nn.Module):\n",
    "    def __init__(self, n_entities, entity_dim, qkv_dim, n_heads):\n",
    "        super().__init__()\n",
    "        self.mhdpa = MHDPA(entity_dim, qkv_dim, n_heads)\n",
    "        self.mlps = nn.ModuleList([\n",
    "            ResidualMLP(qkv_dim) for i in range(n_entities)])\n",
    "        self.n_entities = n_entities\n",
    "        \n",
    "\n",
    "    def forward(self, x):\n",
    "        N, C, H, W = x.shape\n",
    "        # -> x: H * W x N x C\n",
    "        x = x.reshape(N, C, -1).permute(2, 0, 1)\n",
    "        x = self.mhdpa(x, x, x)\n",
    "        # -> x: N, H * W, qkv_dim\n",
    "        x = x.permute(1, 0, 2)\n",
    "        N = x.size(0)\n",
    "        for n in range(N):\n",
    "            for e in range(self.n_entities):\n",
    "                x[n, e] = self.mlps[e](x[n, e])\n",
    "        import pdb\n",
    "        pdb.set_trace()\n",
    "        return x"
   ]
  },
  {
   "cell_type": "code",
   "execution_count": 887,
   "metadata": {},
   "outputs": [],
   "source": [
    "def res_module():\n",
    "    return nn.Sequential(\n",
    "        BasicBlock(26, 26),\n",
    "        BasicBlock(26, 26),\n",
    "        BasicBlock(26, 26)\n",
    "    )"
   ]
  },
  {
   "cell_type": "code",
   "execution_count": 888,
   "metadata": {},
   "outputs": [],
   "source": [
    "def rel_module():\n",
    "    return nn.Sequential(\n",
    "        MHDPABlock(26)\n",
    "    )"
   ]
  },
  {
   "cell_type": "code",
   "execution_count": 913,
   "metadata": {},
   "outputs": [],
   "source": [
    "class RRLAgent(nn.Module):\n",
    "    def __init__(self):\n",
    "        super().__init__()\n",
    "        self.conv = nn.Sequential(\n",
    "            nn.Conv2d(3, 12, (2, 2), 1),\n",
    "            nn.ReLU(),\n",
    "            nn.Conv2d(12, 24, (2, 2), 1),\n",
    "            nn.ReLU(),\n",
    "            ConcatCoords(),\n",
    "        )\n",
    "        self.rb = RelationalBlock(144, 26, 64, 2)\n",
    "        self.linear = nn.Sequential(\n",
    "            ChannelMaxPool(),\n",
    "            nn.Linear(64, 256),\n",
    "            nn.ReLU(),\n",
    "            nn.Linear(256, 256),\n",
    "            nn.ReLU(),\n",
    "            nn.Linear(256, 256),\n",
    "            nn.ReLU(),\n",
    "            nn.Linear(256, 256),\n",
    "            nn.ReLU(),\n",
    "            nn.Linear(256, 5)\n",
    "        )\n",
    "\n",
    "    def forward(self, x):\n",
    "        x = self.conv(x)\n",
    "        x = self.rb(x)\n",
    "        x = x.transpose(1, 2)\n",
    "        x = self.linear(x)\n",
    "        return x"
   ]
  },
  {
   "cell_type": "code",
   "execution_count": 914,
   "metadata": {},
   "outputs": [],
   "source": [
    "def net():\n",
    "    return nn.Sequential(\n",
    "        nn.Conv2d(3, 12, (2, 2), 1),\n",
    "        nn.ReLU(),\n",
    "        nn.Conv2d(12, 24, (2, 2), 1),\n",
    "        nn.ReLU(),\n",
    "        ConcatCoords(),\n",
    "        rel_module(),\n",
    "        ChannelMaxPool(),\n",
    "        nn.Linear(26, 256),\n",
    "        nn.ReLU(),\n",
    "        nn.Linear(256, 256),\n",
    "        nn.ReLU(),\n",
    "        nn.Linear(256, 256),\n",
    "        nn.ReLU(),\n",
    "        nn.Linear(256, 256),\n",
    "        nn.ReLU(),\n",
    "        nn.Linear(256, 5)\n",
    "    )"
   ]
  },
  {
   "cell_type": "code",
   "execution_count": 985,
   "metadata": {},
   "outputs": [],
   "source": [
    "def baseline_net():\n",
    "    return nn.Sequential(\n",
    "        nn.Conv2d(3, 12, (2, 2), 1),\n",
    "        nn.ReLU(),\n",
    "        nn.Conv2d(12, 24, (2, 2), 1),\n",
    "        nn.ReLU(),\n",
    "        ConcatCoords(),\n",
    "        res_module(),\n",
    "        ChannelMaxPool(),\n",
    "        nn.Linear(26, 256),\n",
    "        nn.ReLU(),\n",
    "        nn.Linear(256, 256),\n",
    "        nn.ReLU(),\n",
    "        nn.Linear(256, 256),\n",
    "        nn.ReLU(),\n",
    "        nn.Linear(256, 256),\n",
    "        nn.ReLU(),\n",
    "        nn.Linear(256, 4)\n",
    "    )"
   ]
  },
  {
   "cell_type": "code",
   "execution_count": 986,
   "metadata": {},
   "outputs": [],
   "source": [
    "bw = BoxWorld(12, 4, 2, 2)"
   ]
  },
  {
   "cell_type": "code",
   "execution_count": 987,
   "metadata": {},
   "outputs": [
    {
     "output_type": "execute_result",
     "data": {
      "text/plain": "(14, 14, 3)"
     },
     "metadata": {},
     "execution_count": 987
    }
   ],
   "source": [
    "bw.reset().shape"
   ]
  },
  {
   "cell_type": "code",
   "execution_count": 988,
   "metadata": {},
   "outputs": [],
   "source": [
    "state = transforms.functional.to_tensor(bw.reset()).unsqueeze(0).double()"
   ]
  },
  {
   "cell_type": "code",
   "execution_count": 989,
   "metadata": {},
   "outputs": [
    {
     "output_type": "execute_result",
     "data": {
      "text/plain": "torch.Size([1, 3, 14, 14])"
     },
     "metadata": {},
     "execution_count": 989
    }
   ],
   "source": [
    "state.shape"
   ]
  },
  {
   "cell_type": "code",
   "execution_count": 990,
   "metadata": {},
   "outputs": [
    {
     "output_type": "execute_result",
     "data": {
      "text/plain": "'torch.DoubleTensor'"
     },
     "metadata": {},
     "execution_count": 990
    }
   ],
   "source": [
    "state.type()"
   ]
  },
  {
   "cell_type": "code",
   "execution_count": 991,
   "metadata": {},
   "outputs": [],
   "source": [
    "bn = baseline_net().double()"
   ]
  },
  {
   "cell_type": "code",
   "execution_count": 992,
   "metadata": {
    "tags": [
     "outputPrepend"
    ]
   },
   "outputs": [
    {
     "output_type": "execute_result",
     "data": {
      "text/plain": "tensor([[ 0.0921,  0.2308, -0.0159,  0.1954]], dtype=torch.float64,\n       grad_fn=<AddmmBackward>)"
     },
     "metadata": {},
     "execution_count": 992
    }
   ],
   "source": [
    "bn(state)"
   ]
  },
  {
   "cell_type": "code",
   "execution_count": 993,
   "metadata": {},
   "outputs": [],
   "source": [
    "n = RRLAgent().double()"
   ]
  },
  {
   "cell_type": "code",
   "execution_count": 994,
   "metadata": {},
   "outputs": [],
   "source": [
    "# n(state)"
   ]
  },
  {
   "cell_type": "code",
   "execution_count": null,
   "metadata": {},
   "outputs": [],
   "source": []
  },
  {
   "cell_type": "code",
   "execution_count": null,
   "metadata": {},
   "outputs": [],
   "source": []
  },
  {
   "cell_type": "markdown",
   "metadata": {},
   "source": [
    "# Q-Learning Baseline"
   ]
  },
  {
   "cell_type": "code",
   "execution_count": 995,
   "metadata": {},
   "outputs": [],
   "source": [
    "from collections import namedtuple\n",
    "from itertools import count\n",
    "import random\n",
    "import math"
   ]
  },
  {
   "cell_type": "code",
   "execution_count": 996,
   "metadata": {},
   "outputs": [],
   "source": [
    "# inspiration from https://pytorch.org/tutorials/intermediate/reinforcement_q_learning.html"
   ]
  },
  {
   "cell_type": "code",
   "execution_count": 997,
   "metadata": {},
   "outputs": [],
   "source": [
    "Transition = namedtuple('Transition',\n",
    "                        ('state', 'action', 'next_state', 'reward'))"
   ]
  },
  {
   "cell_type": "code",
   "execution_count": 998,
   "metadata": {},
   "outputs": [],
   "source": [
    "class ReplayMemory(object):\n",
    "    def __init__(self, capacity):\n",
    "        self.capacity = capacity\n",
    "        self.memory = []\n",
    "        self.position = 0\n",
    "\n",
    "    def push(self, *args):\n",
    "        if len(self.memory) < self.capacity:\n",
    "            self.memory.append(None)\n",
    "        self.memory[self.position] = Transition(*args)\n",
    "        self.position = (self.position + 1) % self.capacity\n",
    "\n",
    "    def sample(self, batch_size):\n",
    "        return random.sample(self.memory, batch_size)\n",
    "\n",
    "    def __len__(self):\n",
    "        return len(self.memory)"
   ]
  },
  {
   "cell_type": "code",
   "execution_count": 1010,
   "metadata": {},
   "outputs": [
    {
     "output_type": "stream",
     "name": "stdout",
     "text": "0\n0 tensor([[1]]) tensor([0]) False\noptimizing\n1 tensor([[3]]) tensor([0]) False\noptimizing\n2 tensor([[2]]) tensor([0]) False\noptimizing\n3 tensor([[3]]) tensor([0]) False\noptimizing\n4 tensor([[2]]) tensor([0]) False\noptimizing\n5 tensor([[1]]) tensor([0]) False\noptimizing\n6 tensor([[1]]) tensor([0]) False\noptimizing\n7 tensor([[1]]) tensor([0]) False\noptimizing\n8 tensor([[2]]) tensor([0]) False\noptimizing\n9 tensor([[2]]) tensor([0]) False\noptimizing\n10 tensor([[2]]) tensor([0]) False\noptimizing\n11 tensor([[2]]) tensor([0]) False\noptimizing\n12 tensor([[2]]) tensor([0]) False\noptimizing\n13 tensor([[2]]) tensor([0]) False\noptimizing\n14 tensor([[0]]) tensor([0]) False\noptimizing\n15 tensor([[1]]) tensor([0]) False\noptimizing\n16 tensor([[2]]) tensor([0]) False\noptimizing\n17 tensor([[1]]) tensor([0]) False\noptimizing\n18 tensor([[2]]) tensor([0]) False\noptimizing\n19 tensor([[2]]) tensor([0]) False\noptimizing\n20 tensor([[0]]) tensor([0]) False\noptimizing\n21 tensor([[1]]) tensor([0]) False\noptimizing\n22 tensor([[0]]) tensor([0]) False\noptimizing\n23 tensor([[3]]) tensor([0]) False\noptimizing\n24 tensor([[0]]) tensor([0]) False\noptimizing\n25 tensor([[1]]) tensor([0]) False\noptimizing\n26 tensor([[0]]) tensor([0]) False\noptimizing\n27 tensor([[0]]) tensor([0]) False\noptimizing\n28 tensor([[3]]) tensor([0]) False\noptimizing\n29 tensor([[1]]) tensor([0]) False\noptimizing\n30 tensor([[3]]) tensor([0]) False\noptimizing\n31 tensor([[2]]) tensor([0]) False\noptimizing\n32 tensor([[2]]) tensor([0]) False\noptimizing\n33 tensor([[0]]) tensor([0]) False\noptimizing\n34 tensor([[3]]) tensor([0]) False\noptimizing\n35 tensor([[2]]) tensor([0]) False\noptimizing\n36 tensor([[1]]) tensor([0]) False\noptimizing\n37 tensor([[0]]) tensor([0]) False\noptimizing\n38 tensor([[2]]) tensor([0]) False\noptimizing\n39 tensor([[2]]) tensor([0]) False\noptimizing\n40 tensor([[2]]) tensor([0]) False\noptimizing\n41 tensor([[2]]) tensor([0]) False\noptimizing\n42 tensor([[2]]) tensor([0]) False\noptimizing\n43 tensor([[2]]) tensor([0]) False\noptimizing\n44 tensor([[2]]) tensor([0]) False\noptimizing\n45 tensor([[3]]) tensor([0]) False\noptimizing\n46 tensor([[2]]) tensor([0]) False\noptimizing\n47 tensor([[2]]) tensor([0]) False\noptimizing\n48 tensor([[2]]) tensor([0]) False\noptimizing\n49 tensor([[1]]) tensor([0]) False\noptimizing\n50 tensor([[3]]) tensor([0]) False\noptimizing\n51 tensor([[3]]) tensor([0]) False\noptimizing\n52 tensor([[0]]) tensor([0]) False\noptimizing\n53 tensor([[2]]) tensor([0]) False\noptimizing\n54 tensor([[2]]) tensor([0]) False\noptimizing\n55 tensor([[2]]) tensor([0]) False\noptimizing\n56 tensor([[2]]) tensor([0]) False\noptimizing\n57 tensor([[3]]) tensor([0]) False\noptimizing\n58 tensor([[3]]) tensor([0]) False\noptimizing\n59 tensor([[1]]) tensor([0]) False\noptimizing\n60 tensor([[1]]) tensor([0]) False\noptimizing\n61 tensor([[2]]) tensor([0]) False\noptimizing\n62 tensor([[2]]) tensor([0]) False\noptimizing\n63 tensor([[3]]) tensor([0]) False\noptimizing\n64 tensor([[3]]) tensor([0]) False\noptimizing\n65 tensor([[0]]) tensor([0]) False\noptimizing\n66 tensor([[1]]) tensor([0]) False\noptimizing\n67 tensor([[3]]) tensor([0]) False\noptimizing\n68 tensor([[2]]) tensor([0]) False\noptimizing\n69 tensor([[2]]) tensor([0]) False\noptimizing\n70 tensor([[2]]) tensor([0]) False\noptimizing\n71 tensor([[2]]) tensor([0]) False\noptimizing\n72 tensor([[2]]) tensor([0]) False\noptimizing\n73 tensor([[2]]) tensor([0]) False\noptimizing\n74 tensor([[2]]) tensor([0]) False\noptimizing\n75 tensor([[2]]) tensor([0]) False\noptimizing\n76 tensor([[2]]) tensor([0]) False\noptimizing\n77 tensor([[2]]) tensor([0]) False\noptimizing\n78 tensor([[2]]) tensor([0]) False\noptimizing\n79 tensor([[2]]) tensor([0]) False\noptimizing\n80 tensor([[0]]) tensor([0]) False\noptimizing\n81 tensor([[2]]) tensor([0]) False\noptimizing\n82 tensor([[1]]) tensor([0]) False\noptimizing\n83 tensor([[2]]) tensor([0]) False\noptimizing\n84 tensor([[2]]) tensor([0]) False\noptimizing\n85 tensor([[0]]) tensor([0]) False\noptimizing\n86 tensor([[1]]) tensor([0]) False\noptimizing\n87 tensor([[0]]) tensor([0]) False\noptimizing\n88 tensor([[2]]) tensor([0]) False\noptimizing\n89 tensor([[2]]) tensor([0]) False\noptimizing\n90 tensor([[0]]) tensor([0]) False\noptimizing\n91 tensor([[2]]) tensor([0]) False\noptimizing\n92 tensor([[3]]) tensor([0]) False\noptimizing\n93 tensor([[1]]) tensor([0]) False\noptimizing\n94 tensor([[1]]) tensor([0]) False\noptimizing\n95 tensor([[2]]) tensor([0]) False\noptimizing\n96 tensor([[2]]) tensor([0]) False\noptimizing\n97 tensor([[3]]) tensor([0]) False\noptimizing\n98 tensor([[1]]) tensor([0]) False\noptimizing\n99 tensor([[2]]) tensor([0]) False\noptimizing\n100 tensor([[0]]) tensor([0]) False\noptimizing\n101 tensor([[1]]) tensor([0]) False\noptimizing\n102 tensor([[1]]) tensor([0]) False\noptimizing\n103 tensor([[2]]) tensor([0]) False\noptimizing\n104 tensor([[2]]) tensor([0]) False\noptimizing\n105 tensor([[0]]) tensor([0]) False\noptimizing\n106 tensor([[0]]) tensor([0]) False\noptimizing\n107 tensor([[2]]) tensor([0]) False\noptimizing\n108 tensor([[3]]) tensor([0]) False\noptimizing\n109 tensor([[1]]) tensor([0]) False\noptimizing\n110 tensor([[2]]) tensor([0]) False\noptimizing\n111 tensor([[2]]) tensor([0]) False\noptimizing\n112 tensor([[2]]) tensor([0]) False\noptimizing\n113 tensor([[3]]) tensor([0]) False\noptimizing\n114 tensor([[2]]) tensor([0]) False\noptimizing\n115 tensor([[0]]) tensor([0]) False\noptimizing\n116 tensor([[1]]) tensor([0]) False\noptimizing\n117 tensor([[2]]) tensor([0]) False\noptimizing\n118 tensor([[2]]) tensor([0]) False\noptimizing\n119 tensor([[0]]) tensor([0]) False\noptimizing\n120 tensor([[3]]) tensor([0]) False\noptimizing\n121 tensor([[2]]) tensor([0]) False\noptimizing\n122 tensor([[2]]) tensor([0]) False\noptimizing\n123 tensor([[2]]) tensor([0]) False\noptimizing\n124 tensor([[2]]) tensor([0]) False\noptimizing\n125 tensor([[2]]) tensor([0]) False\noptimizing\n126 tensor([[0]]) tensor([0]) False\noptimizing\n127 tensor([[2]]) tensor([0]) False\noptimizing\n128 tensor([[3]]) tensor([0]) False\noptimizing\n129 tensor([[2]]) tensor([0]) False\noptimizing\n130 tensor([[0]]) tensor([0]) False\noptimizing\n131 tensor([[3]]) tensor([0]) False\noptimizing\n132 tensor([[2]]) tensor([0]) False\noptimizing\n133 tensor([[0]]) tensor([0]) False\noptimizing\n134 tensor([[0]]) tensor([0]) False\noptimizing\n135 tensor([[3]]) tensor([0]) False\noptimizing\n136 tensor([[2]]) tensor([0]) False\noptimizing\n"
    },
    {
     "output_type": "error",
     "ename": "KeyboardInterrupt",
     "evalue": "",
     "traceback": [
      "\u001b[0;31m---------------------------------------------------------------------------\u001b[0m",
      "\u001b[0;31mKeyboardInterrupt\u001b[0m                         Traceback (most recent call last)",
      "\u001b[0;32m<ipython-input-1010-8c31d113ebf3>\u001b[0m in \u001b[0;36m<module>\u001b[0;34m\u001b[0m\n\u001b[1;32m    105\u001b[0m \u001b[0;34m\u001b[0m\u001b[0m\n\u001b[1;32m    106\u001b[0m         \u001b[0;31m# Perform one step of the optimization (on the target network)\u001b[0m\u001b[0;34m\u001b[0m\u001b[0;34m\u001b[0m\u001b[0;34m\u001b[0m\u001b[0m\n\u001b[0;32m--> 107\u001b[0;31m         \u001b[0moptimize_model\u001b[0m\u001b[0;34m(\u001b[0m\u001b[0;34m)\u001b[0m\u001b[0;34m\u001b[0m\u001b[0;34m\u001b[0m\u001b[0m\n\u001b[0m\u001b[1;32m    108\u001b[0m         \u001b[0;32mif\u001b[0m \u001b[0mdone\u001b[0m\u001b[0;34m:\u001b[0m\u001b[0;34m\u001b[0m\u001b[0;34m\u001b[0m\u001b[0m\n\u001b[1;32m    109\u001b[0m             \u001b[0mepisode_durations\u001b[0m\u001b[0;34m.\u001b[0m\u001b[0mappend\u001b[0m\u001b[0;34m(\u001b[0m\u001b[0mt\u001b[0m \u001b[0;34m+\u001b[0m \u001b[0;36m1\u001b[0m\u001b[0;34m)\u001b[0m\u001b[0;34m\u001b[0m\u001b[0;34m\u001b[0m\u001b[0m\n",
      "\u001b[0;32m<ipython-input-1010-8c31d113ebf3>\u001b[0m in \u001b[0;36moptimize_model\u001b[0;34m()\u001b[0m\n\u001b[1;32m     60\u001b[0m     \u001b[0;31m# columns of actions taken. These are the actions which would've been taken\u001b[0m\u001b[0;34m\u001b[0m\u001b[0;34m\u001b[0m\u001b[0;34m\u001b[0m\u001b[0m\n\u001b[1;32m     61\u001b[0m     \u001b[0;31m# for each batch state according to policy_net\u001b[0m\u001b[0;34m\u001b[0m\u001b[0;34m\u001b[0m\u001b[0;34m\u001b[0m\u001b[0m\n\u001b[0;32m---> 62\u001b[0;31m     \u001b[0mstate_action_values\u001b[0m \u001b[0;34m=\u001b[0m \u001b[0mpolicy_net\u001b[0m\u001b[0;34m(\u001b[0m\u001b[0mstate_batch\u001b[0m\u001b[0;34m)\u001b[0m\u001b[0;34m.\u001b[0m\u001b[0mgather\u001b[0m\u001b[0;34m(\u001b[0m\u001b[0;36m1\u001b[0m\u001b[0;34m,\u001b[0m \u001b[0maction_batch\u001b[0m\u001b[0;34m)\u001b[0m\u001b[0;34m\u001b[0m\u001b[0;34m\u001b[0m\u001b[0m\n\u001b[0m\u001b[1;32m     63\u001b[0m \u001b[0;34m\u001b[0m\u001b[0m\n\u001b[1;32m     64\u001b[0m     \u001b[0;31m# Compute V(s_{t+1}) for all next states.\u001b[0m\u001b[0;34m\u001b[0m\u001b[0;34m\u001b[0m\u001b[0;34m\u001b[0m\u001b[0m\n",
      "\u001b[0;32m~/miniconda3/envs/rrl/lib/python3.8/site-packages/torch/nn/modules/module.py\u001b[0m in \u001b[0;36m__call__\u001b[0;34m(self, *input, **kwargs)\u001b[0m\n\u001b[1;32m    548\u001b[0m             \u001b[0mresult\u001b[0m \u001b[0;34m=\u001b[0m \u001b[0mself\u001b[0m\u001b[0;34m.\u001b[0m\u001b[0m_slow_forward\u001b[0m\u001b[0;34m(\u001b[0m\u001b[0;34m*\u001b[0m\u001b[0minput\u001b[0m\u001b[0;34m,\u001b[0m \u001b[0;34m**\u001b[0m\u001b[0mkwargs\u001b[0m\u001b[0;34m)\u001b[0m\u001b[0;34m\u001b[0m\u001b[0;34m\u001b[0m\u001b[0m\n\u001b[1;32m    549\u001b[0m         \u001b[0;32melse\u001b[0m\u001b[0;34m:\u001b[0m\u001b[0;34m\u001b[0m\u001b[0;34m\u001b[0m\u001b[0m\n\u001b[0;32m--> 550\u001b[0;31m             \u001b[0mresult\u001b[0m \u001b[0;34m=\u001b[0m \u001b[0mself\u001b[0m\u001b[0;34m.\u001b[0m\u001b[0mforward\u001b[0m\u001b[0;34m(\u001b[0m\u001b[0;34m*\u001b[0m\u001b[0minput\u001b[0m\u001b[0;34m,\u001b[0m \u001b[0;34m**\u001b[0m\u001b[0mkwargs\u001b[0m\u001b[0;34m)\u001b[0m\u001b[0;34m\u001b[0m\u001b[0;34m\u001b[0m\u001b[0m\n\u001b[0m\u001b[1;32m    551\u001b[0m         \u001b[0;32mfor\u001b[0m \u001b[0mhook\u001b[0m \u001b[0;32min\u001b[0m \u001b[0mself\u001b[0m\u001b[0;34m.\u001b[0m\u001b[0m_forward_hooks\u001b[0m\u001b[0;34m.\u001b[0m\u001b[0mvalues\u001b[0m\u001b[0;34m(\u001b[0m\u001b[0;34m)\u001b[0m\u001b[0;34m:\u001b[0m\u001b[0;34m\u001b[0m\u001b[0;34m\u001b[0m\u001b[0m\n\u001b[1;32m    552\u001b[0m             \u001b[0mhook_result\u001b[0m \u001b[0;34m=\u001b[0m \u001b[0mhook\u001b[0m\u001b[0;34m(\u001b[0m\u001b[0mself\u001b[0m\u001b[0;34m,\u001b[0m \u001b[0minput\u001b[0m\u001b[0;34m,\u001b[0m \u001b[0mresult\u001b[0m\u001b[0;34m)\u001b[0m\u001b[0;34m\u001b[0m\u001b[0;34m\u001b[0m\u001b[0m\n",
      "\u001b[0;32m~/miniconda3/envs/rrl/lib/python3.8/site-packages/torch/nn/modules/container.py\u001b[0m in \u001b[0;36mforward\u001b[0;34m(self, input)\u001b[0m\n\u001b[1;32m     98\u001b[0m     \u001b[0;32mdef\u001b[0m \u001b[0mforward\u001b[0m\u001b[0;34m(\u001b[0m\u001b[0mself\u001b[0m\u001b[0;34m,\u001b[0m \u001b[0minput\u001b[0m\u001b[0;34m)\u001b[0m\u001b[0;34m:\u001b[0m\u001b[0;34m\u001b[0m\u001b[0;34m\u001b[0m\u001b[0m\n\u001b[1;32m     99\u001b[0m         \u001b[0;32mfor\u001b[0m \u001b[0mmodule\u001b[0m \u001b[0;32min\u001b[0m \u001b[0mself\u001b[0m\u001b[0;34m:\u001b[0m\u001b[0;34m\u001b[0m\u001b[0;34m\u001b[0m\u001b[0m\n\u001b[0;32m--> 100\u001b[0;31m             \u001b[0minput\u001b[0m \u001b[0;34m=\u001b[0m \u001b[0mmodule\u001b[0m\u001b[0;34m(\u001b[0m\u001b[0minput\u001b[0m\u001b[0;34m)\u001b[0m\u001b[0;34m\u001b[0m\u001b[0;34m\u001b[0m\u001b[0m\n\u001b[0m\u001b[1;32m    101\u001b[0m         \u001b[0;32mreturn\u001b[0m \u001b[0minput\u001b[0m\u001b[0;34m\u001b[0m\u001b[0;34m\u001b[0m\u001b[0m\n\u001b[1;32m    102\u001b[0m \u001b[0;34m\u001b[0m\u001b[0m\n",
      "\u001b[0;32m~/miniconda3/envs/rrl/lib/python3.8/site-packages/torch/nn/modules/module.py\u001b[0m in \u001b[0;36m__call__\u001b[0;34m(self, *input, **kwargs)\u001b[0m\n\u001b[1;32m    548\u001b[0m             \u001b[0mresult\u001b[0m \u001b[0;34m=\u001b[0m \u001b[0mself\u001b[0m\u001b[0;34m.\u001b[0m\u001b[0m_slow_forward\u001b[0m\u001b[0;34m(\u001b[0m\u001b[0;34m*\u001b[0m\u001b[0minput\u001b[0m\u001b[0;34m,\u001b[0m \u001b[0;34m**\u001b[0m\u001b[0mkwargs\u001b[0m\u001b[0;34m)\u001b[0m\u001b[0;34m\u001b[0m\u001b[0;34m\u001b[0m\u001b[0m\n\u001b[1;32m    549\u001b[0m         \u001b[0;32melse\u001b[0m\u001b[0;34m:\u001b[0m\u001b[0;34m\u001b[0m\u001b[0;34m\u001b[0m\u001b[0m\n\u001b[0;32m--> 550\u001b[0;31m             \u001b[0mresult\u001b[0m \u001b[0;34m=\u001b[0m \u001b[0mself\u001b[0m\u001b[0;34m.\u001b[0m\u001b[0mforward\u001b[0m\u001b[0;34m(\u001b[0m\u001b[0;34m*\u001b[0m\u001b[0minput\u001b[0m\u001b[0;34m,\u001b[0m \u001b[0;34m**\u001b[0m\u001b[0mkwargs\u001b[0m\u001b[0;34m)\u001b[0m\u001b[0;34m\u001b[0m\u001b[0;34m\u001b[0m\u001b[0m\n\u001b[0m\u001b[1;32m    551\u001b[0m         \u001b[0;32mfor\u001b[0m \u001b[0mhook\u001b[0m \u001b[0;32min\u001b[0m \u001b[0mself\u001b[0m\u001b[0;34m.\u001b[0m\u001b[0m_forward_hooks\u001b[0m\u001b[0;34m.\u001b[0m\u001b[0mvalues\u001b[0m\u001b[0;34m(\u001b[0m\u001b[0;34m)\u001b[0m\u001b[0;34m:\u001b[0m\u001b[0;34m\u001b[0m\u001b[0;34m\u001b[0m\u001b[0m\n\u001b[1;32m    552\u001b[0m             \u001b[0mhook_result\u001b[0m \u001b[0;34m=\u001b[0m \u001b[0mhook\u001b[0m\u001b[0;34m(\u001b[0m\u001b[0mself\u001b[0m\u001b[0;34m,\u001b[0m \u001b[0minput\u001b[0m\u001b[0;34m,\u001b[0m \u001b[0mresult\u001b[0m\u001b[0;34m)\u001b[0m\u001b[0;34m\u001b[0m\u001b[0;34m\u001b[0m\u001b[0m\n",
      "\u001b[0;32m~/miniconda3/envs/rrl/lib/python3.8/site-packages/torch/nn/modules/container.py\u001b[0m in \u001b[0;36mforward\u001b[0;34m(self, input)\u001b[0m\n\u001b[1;32m     98\u001b[0m     \u001b[0;32mdef\u001b[0m \u001b[0mforward\u001b[0m\u001b[0;34m(\u001b[0m\u001b[0mself\u001b[0m\u001b[0;34m,\u001b[0m \u001b[0minput\u001b[0m\u001b[0;34m)\u001b[0m\u001b[0;34m:\u001b[0m\u001b[0;34m\u001b[0m\u001b[0;34m\u001b[0m\u001b[0m\n\u001b[1;32m     99\u001b[0m         \u001b[0;32mfor\u001b[0m \u001b[0mmodule\u001b[0m \u001b[0;32min\u001b[0m \u001b[0mself\u001b[0m\u001b[0;34m:\u001b[0m\u001b[0;34m\u001b[0m\u001b[0;34m\u001b[0m\u001b[0m\n\u001b[0;32m--> 100\u001b[0;31m             \u001b[0minput\u001b[0m \u001b[0;34m=\u001b[0m \u001b[0mmodule\u001b[0m\u001b[0;34m(\u001b[0m\u001b[0minput\u001b[0m\u001b[0;34m)\u001b[0m\u001b[0;34m\u001b[0m\u001b[0;34m\u001b[0m\u001b[0m\n\u001b[0m\u001b[1;32m    101\u001b[0m         \u001b[0;32mreturn\u001b[0m \u001b[0minput\u001b[0m\u001b[0;34m\u001b[0m\u001b[0;34m\u001b[0m\u001b[0m\n\u001b[1;32m    102\u001b[0m \u001b[0;34m\u001b[0m\u001b[0m\n",
      "\u001b[0;32m~/miniconda3/envs/rrl/lib/python3.8/site-packages/torch/nn/modules/module.py\u001b[0m in \u001b[0;36m__call__\u001b[0;34m(self, *input, **kwargs)\u001b[0m\n\u001b[1;32m    548\u001b[0m             \u001b[0mresult\u001b[0m \u001b[0;34m=\u001b[0m \u001b[0mself\u001b[0m\u001b[0;34m.\u001b[0m\u001b[0m_slow_forward\u001b[0m\u001b[0;34m(\u001b[0m\u001b[0;34m*\u001b[0m\u001b[0minput\u001b[0m\u001b[0;34m,\u001b[0m \u001b[0;34m**\u001b[0m\u001b[0mkwargs\u001b[0m\u001b[0;34m)\u001b[0m\u001b[0;34m\u001b[0m\u001b[0;34m\u001b[0m\u001b[0m\n\u001b[1;32m    549\u001b[0m         \u001b[0;32melse\u001b[0m\u001b[0;34m:\u001b[0m\u001b[0;34m\u001b[0m\u001b[0;34m\u001b[0m\u001b[0m\n\u001b[0;32m--> 550\u001b[0;31m             \u001b[0mresult\u001b[0m \u001b[0;34m=\u001b[0m \u001b[0mself\u001b[0m\u001b[0;34m.\u001b[0m\u001b[0mforward\u001b[0m\u001b[0;34m(\u001b[0m\u001b[0;34m*\u001b[0m\u001b[0minput\u001b[0m\u001b[0;34m,\u001b[0m \u001b[0;34m**\u001b[0m\u001b[0mkwargs\u001b[0m\u001b[0;34m)\u001b[0m\u001b[0;34m\u001b[0m\u001b[0;34m\u001b[0m\u001b[0m\n\u001b[0m\u001b[1;32m    551\u001b[0m         \u001b[0;32mfor\u001b[0m \u001b[0mhook\u001b[0m \u001b[0;32min\u001b[0m \u001b[0mself\u001b[0m\u001b[0;34m.\u001b[0m\u001b[0m_forward_hooks\u001b[0m\u001b[0;34m.\u001b[0m\u001b[0mvalues\u001b[0m\u001b[0;34m(\u001b[0m\u001b[0;34m)\u001b[0m\u001b[0;34m:\u001b[0m\u001b[0;34m\u001b[0m\u001b[0;34m\u001b[0m\u001b[0m\n\u001b[1;32m    552\u001b[0m             \u001b[0mhook_result\u001b[0m \u001b[0;34m=\u001b[0m \u001b[0mhook\u001b[0m\u001b[0;34m(\u001b[0m\u001b[0mself\u001b[0m\u001b[0;34m,\u001b[0m \u001b[0minput\u001b[0m\u001b[0;34m,\u001b[0m \u001b[0mresult\u001b[0m\u001b[0;34m)\u001b[0m\u001b[0;34m\u001b[0m\u001b[0;34m\u001b[0m\u001b[0m\n",
      "\u001b[0;32m<ipython-input-400-f533e87cc563>\u001b[0m in \u001b[0;36mforward\u001b[0;34m(self, x)\u001b[0m\n\u001b[1;32m     32\u001b[0m         \u001b[0mout\u001b[0m \u001b[0;34m=\u001b[0m \u001b[0mself\u001b[0m\u001b[0;34m.\u001b[0m\u001b[0mrelu\u001b[0m\u001b[0;34m(\u001b[0m\u001b[0mout\u001b[0m\u001b[0;34m)\u001b[0m\u001b[0;34m\u001b[0m\u001b[0;34m\u001b[0m\u001b[0m\n\u001b[1;32m     33\u001b[0m \u001b[0;34m\u001b[0m\u001b[0m\n\u001b[0;32m---> 34\u001b[0;31m         \u001b[0mout\u001b[0m \u001b[0;34m=\u001b[0m \u001b[0mself\u001b[0m\u001b[0;34m.\u001b[0m\u001b[0mconv2\u001b[0m\u001b[0;34m(\u001b[0m\u001b[0mout\u001b[0m\u001b[0;34m)\u001b[0m\u001b[0;34m\u001b[0m\u001b[0;34m\u001b[0m\u001b[0m\n\u001b[0m\u001b[1;32m     35\u001b[0m         \u001b[0mout\u001b[0m \u001b[0;34m=\u001b[0m \u001b[0mself\u001b[0m\u001b[0;34m.\u001b[0m\u001b[0mbn2\u001b[0m\u001b[0;34m(\u001b[0m\u001b[0mout\u001b[0m\u001b[0;34m)\u001b[0m\u001b[0;34m\u001b[0m\u001b[0;34m\u001b[0m\u001b[0m\n\u001b[1;32m     36\u001b[0m \u001b[0;34m\u001b[0m\u001b[0m\n",
      "\u001b[0;32m~/miniconda3/envs/rrl/lib/python3.8/site-packages/torch/nn/modules/module.py\u001b[0m in \u001b[0;36m__call__\u001b[0;34m(self, *input, **kwargs)\u001b[0m\n\u001b[1;32m    548\u001b[0m             \u001b[0mresult\u001b[0m \u001b[0;34m=\u001b[0m \u001b[0mself\u001b[0m\u001b[0;34m.\u001b[0m\u001b[0m_slow_forward\u001b[0m\u001b[0;34m(\u001b[0m\u001b[0;34m*\u001b[0m\u001b[0minput\u001b[0m\u001b[0;34m,\u001b[0m \u001b[0;34m**\u001b[0m\u001b[0mkwargs\u001b[0m\u001b[0;34m)\u001b[0m\u001b[0;34m\u001b[0m\u001b[0;34m\u001b[0m\u001b[0m\n\u001b[1;32m    549\u001b[0m         \u001b[0;32melse\u001b[0m\u001b[0;34m:\u001b[0m\u001b[0;34m\u001b[0m\u001b[0;34m\u001b[0m\u001b[0m\n\u001b[0;32m--> 550\u001b[0;31m             \u001b[0mresult\u001b[0m \u001b[0;34m=\u001b[0m \u001b[0mself\u001b[0m\u001b[0;34m.\u001b[0m\u001b[0mforward\u001b[0m\u001b[0;34m(\u001b[0m\u001b[0;34m*\u001b[0m\u001b[0minput\u001b[0m\u001b[0;34m,\u001b[0m \u001b[0;34m**\u001b[0m\u001b[0mkwargs\u001b[0m\u001b[0;34m)\u001b[0m\u001b[0;34m\u001b[0m\u001b[0;34m\u001b[0m\u001b[0m\n\u001b[0m\u001b[1;32m    551\u001b[0m         \u001b[0;32mfor\u001b[0m \u001b[0mhook\u001b[0m \u001b[0;32min\u001b[0m \u001b[0mself\u001b[0m\u001b[0;34m.\u001b[0m\u001b[0m_forward_hooks\u001b[0m\u001b[0;34m.\u001b[0m\u001b[0mvalues\u001b[0m\u001b[0;34m(\u001b[0m\u001b[0;34m)\u001b[0m\u001b[0;34m:\u001b[0m\u001b[0;34m\u001b[0m\u001b[0;34m\u001b[0m\u001b[0m\n\u001b[1;32m    552\u001b[0m             \u001b[0mhook_result\u001b[0m \u001b[0;34m=\u001b[0m \u001b[0mhook\u001b[0m\u001b[0;34m(\u001b[0m\u001b[0mself\u001b[0m\u001b[0;34m,\u001b[0m \u001b[0minput\u001b[0m\u001b[0;34m,\u001b[0m \u001b[0mresult\u001b[0m\u001b[0;34m)\u001b[0m\u001b[0;34m\u001b[0m\u001b[0;34m\u001b[0m\u001b[0m\n",
      "\u001b[0;32m~/miniconda3/envs/rrl/lib/python3.8/site-packages/torch/nn/modules/conv.py\u001b[0m in \u001b[0;36mforward\u001b[0;34m(self, input)\u001b[0m\n\u001b[1;32m    347\u001b[0m \u001b[0;34m\u001b[0m\u001b[0m\n\u001b[1;32m    348\u001b[0m     \u001b[0;32mdef\u001b[0m \u001b[0mforward\u001b[0m\u001b[0;34m(\u001b[0m\u001b[0mself\u001b[0m\u001b[0;34m,\u001b[0m \u001b[0minput\u001b[0m\u001b[0;34m)\u001b[0m\u001b[0;34m:\u001b[0m\u001b[0;34m\u001b[0m\u001b[0;34m\u001b[0m\u001b[0m\n\u001b[0;32m--> 349\u001b[0;31m         \u001b[0;32mreturn\u001b[0m \u001b[0mself\u001b[0m\u001b[0;34m.\u001b[0m\u001b[0m_conv_forward\u001b[0m\u001b[0;34m(\u001b[0m\u001b[0minput\u001b[0m\u001b[0;34m,\u001b[0m \u001b[0mself\u001b[0m\u001b[0;34m.\u001b[0m\u001b[0mweight\u001b[0m\u001b[0;34m)\u001b[0m\u001b[0;34m\u001b[0m\u001b[0;34m\u001b[0m\u001b[0m\n\u001b[0m\u001b[1;32m    350\u001b[0m \u001b[0;34m\u001b[0m\u001b[0m\n\u001b[1;32m    351\u001b[0m \u001b[0;32mclass\u001b[0m \u001b[0mConv3d\u001b[0m\u001b[0;34m(\u001b[0m\u001b[0m_ConvNd\u001b[0m\u001b[0;34m)\u001b[0m\u001b[0;34m:\u001b[0m\u001b[0;34m\u001b[0m\u001b[0;34m\u001b[0m\u001b[0m\n",
      "\u001b[0;32m~/miniconda3/envs/rrl/lib/python3.8/site-packages/torch/nn/modules/conv.py\u001b[0m in \u001b[0;36m_conv_forward\u001b[0;34m(self, input, weight)\u001b[0m\n\u001b[1;32m    343\u001b[0m                             \u001b[0mweight\u001b[0m\u001b[0;34m,\u001b[0m \u001b[0mself\u001b[0m\u001b[0;34m.\u001b[0m\u001b[0mbias\u001b[0m\u001b[0;34m,\u001b[0m \u001b[0mself\u001b[0m\u001b[0;34m.\u001b[0m\u001b[0mstride\u001b[0m\u001b[0;34m,\u001b[0m\u001b[0;34m\u001b[0m\u001b[0;34m\u001b[0m\u001b[0m\n\u001b[1;32m    344\u001b[0m                             _pair(0), self.dilation, self.groups)\n\u001b[0;32m--> 345\u001b[0;31m         return F.conv2d(input, weight, self.bias, self.stride,\n\u001b[0m\u001b[1;32m    346\u001b[0m                         self.padding, self.dilation, self.groups)\n\u001b[1;32m    347\u001b[0m \u001b[0;34m\u001b[0m\u001b[0m\n",
      "\u001b[0;31mKeyboardInterrupt\u001b[0m: "
     ]
    }
   ],
   "source": [
    "BATCH_SIZE = 128\n",
    "GAMMA = 0.999\n",
    "EPS_START = 0.9\n",
    "EPS_END = 0.05\n",
    "EPS_DECAY = 200\n",
    "TARGET_UPDATE = 10\n",
    "\n",
    "device = torch.device('cuda' if torch.cuda.is_available() else 'cpu')\n",
    "env = BoxWorld(12, 2, 1, 1)\n",
    "\n",
    "n_actions = env.action_space.n\n",
    "\n",
    "policy_net = baseline_net().double().to(device).double()\n",
    "target_net = baseline_net().double().to(device).double()\n",
    "target_net.load_state_dict(policy_net.state_dict())\n",
    "target_net.eval()\n",
    "\n",
    "optimizer = optim.RMSprop(policy_net.parameters())\n",
    "memory = ReplayMemory(10000)\n",
    "\n",
    "\n",
    "steps_done = 0\n",
    "\n",
    "def select_action(state):\n",
    "    global steps_done\n",
    "    sample = random.random()\n",
    "    eps_threshold = EPS_END + (EPS_START - EPS_END) * \\\n",
    "        math.exp(-1. * steps_done / EPS_DECAY)\n",
    "    steps_done += 1\n",
    "    if sample > eps_threshold:\n",
    "        with torch.no_grad():\n",
    "            # t.max(1) will return largest column value of each row.\n",
    "            # second column on max result is index of where max element was\n",
    "            # found, so we pick action with the larger expected reward.\n",
    "            return policy_net(state).max(1)[1].view(1, 1)\n",
    "    else:\n",
    "        return torch.tensor([[random.randrange(n_actions)]], device=device, dtype=torch.long)\n",
    "\n",
    "def optimize_model():\n",
    "    if len(memory) < BATCH_SIZE:\n",
    "        return\n",
    "    transitions = memory.sample(BATCH_SIZE)\n",
    "    # Transpose the batch (see https://stackoverflow.com/a/19343/3343043 for\n",
    "    # detailed explanation). This converts batch-array of Transitions\n",
    "    # to Transition of batch-arrays.\n",
    "    batch = Transition(*zip(*transitions))\n",
    "\n",
    "    # Compute a mask of non-final states and concatenate the batch elements\n",
    "    # (a final state would've been the one after which simulation ended)\n",
    "    non_final_mask = torch.tensor(tuple(map(lambda s: s is not None,\n",
    "                                          batch.next_state)), device=device, dtype=torch.bool)\n",
    "    non_final_next_states = torch.cat([s for s in batch.next_state\n",
    "                                                if s is not None]).double()\n",
    "    state_batch = torch.cat(batch.state)\n",
    "    action_batch = torch.cat(batch.action)\n",
    "    reward_batch = torch.cat(batch.reward)\n",
    "\n",
    "    # Compute Q(s_t, a) - the model computes Q(s_t), then we select the\n",
    "    # columns of actions taken. These are the actions which would've been taken\n",
    "    # for each batch state according to policy_net\n",
    "    state_action_values = policy_net(state_batch).gather(1, action_batch)\n",
    "\n",
    "    # Compute V(s_{t+1}) for all next states.\n",
    "    # Expected values of actions for non_final_next_states are computed based\n",
    "    # on the \"older\" target_net; selecting their best reward with max(1)[0].\n",
    "    # This is merged based on the mask, such that we'll have either the expected\n",
    "    # state value or 0 in case the state was final.\n",
    "    next_state_values = torch.zeros(BATCH_SIZE, device=device).double()\n",
    "    next_state_values[non_final_mask] = target_net(non_final_next_states).max(1)[0].detach()\n",
    "    # Compute the expected Q values\n",
    "    expected_state_action_values = (next_state_values * GAMMA) + reward_batch\n",
    "\n",
    "    # Compute Huber loss\n",
    "    loss = F.smooth_l1_loss(state_action_values, expected_state_action_values.unsqueeze(1))\n",
    "\n",
    "    # Optimize the model\n",
    "    optimizer.zero_grad()\n",
    "    loss.backward()\n",
    "    for param in policy_net.parameters():\n",
    "        param.grad.data.clamp_(-1, 1)\n",
    "    optimizer.step()\n",
    "\n",
    "num_episodes = 50\n",
    "for i_episode in range(num_episodes):\n",
    "    print(i_episode)\n",
    "    # Initialize the environment and state\n",
    "    state = env.reset()\n",
    "    state = transforms.functional.to_tensor(state).unsqueeze(0).double()\n",
    "    for t in count():\n",
    "        # Select and perform an action\n",
    "        action = select_action(state)\n",
    "        next_state, reward, done, _ = env.step(action.item())\n",
    "        next_state = transforms.functional.to_tensor(next_state).unsqueeze(0).double()\n",
    "\n",
    "        reward = torch.tensor([reward], device=device)\n",
    "        print(t, action, reward, done)\n",
    "\n",
    "\n",
    "        # Store the transition in memory\n",
    "        memory.push(state, action, next_state, reward)\n",
    "\n",
    "        # Move to the next state\n",
    "        state = next_state\n",
    "\n",
    "        # Perform one step of the optimization (on the target network)\n",
    "        optimize_model()\n",
    "        if done:\n",
    "            episode_durations.append(t + 1)\n",
    "            plot_durations()\n",
    "            break\n",
    "    # Update the target network, copying all weights and biases in DQN\n",
    "    if i_episode % TARGET_UPDATE == 0:\n",
    "        target_net.load_state_dict(policy_net.state_dict())"
   ]
  },
  {
   "cell_type": "code",
   "execution_count": 955,
   "metadata": {},
   "outputs": [
    {
     "output_type": "error",
     "ename": "SyntaxError",
     "evalue": "unexpected EOF while parsing (<ipython-input-955-76694e87e56d>, line 2)",
     "traceback": [
      "\u001b[0;36m  File \u001b[0;32m\"<ipython-input-955-76694e87e56d>\"\u001b[0;36m, line \u001b[0;32m2\u001b[0m\n\u001b[0;31m    \u001b[0m\n\u001b[0m    ^\u001b[0m\n\u001b[0;31mSyntaxError\u001b[0m\u001b[0;31m:\u001b[0m unexpected EOF while parsing\n"
     ]
    }
   ],
   "source": [
    "def action(state):\n",
    "    "
   ]
  },
  {
   "cell_type": "code",
   "execution_count": null,
   "metadata": {},
   "outputs": [],
   "source": []
  },
  {
   "cell_type": "code",
   "execution_count": null,
   "metadata": {},
   "outputs": [],
   "source": [
    "import torch.optim as optim"
   ]
  },
  {
   "cell_type": "code",
   "execution_count": 926,
   "metadata": {},
   "outputs": [
    {
     "output_type": "error",
     "ename": "SyntaxError",
     "evalue": "unexpected EOF while parsing (<ipython-input-926-dcee57fe88c8>, line 11)",
     "traceback": [
      "\u001b[0;36m  File \u001b[0;32m\"<ipython-input-926-dcee57fe88c8>\"\u001b[0;36m, line \u001b[0;32m11\u001b[0m\n\u001b[0;31m    def action(state):\u001b[0m\n\u001b[0m                      ^\u001b[0m\n\u001b[0;31mSyntaxError\u001b[0m\u001b[0;31m:\u001b[0m unexpected EOF while parsing\n"
     ]
    }
   ],
   "source": [
    "device = torch.device('cuda' if torch.cuda.is_available() else 'cpu')\n",
    "env = BoxWorld(12, 4, 2, 2)\n",
    "n_actions = env.action_space.n\n",
    "\n",
    "agent = RRLAgent().to(device)\n",
    "target = RRLAgent().to(device)\n",
    "target.load_state_dict(agent.state_dict())\n",
    "\n",
    "optimizer = optim.RMSProp(agent.parameters())\n",
    "\n",
    "def action(state):\n"
   ]
  },
  {
   "cell_type": "code",
   "execution_count": null,
   "metadata": {},
   "outputs": [],
   "source": []
  }
 ],
 "metadata": {
  "language_info": {
   "codemirror_mode": {
    "name": "ipython",
    "version": 3
   },
   "file_extension": ".py",
   "mimetype": "text/x-python",
   "name": "python",
   "nbconvert_exporter": "python",
   "pygments_lexer": "ipython3",
   "version": "3.8.3-final"
  },
  "orig_nbformat": 2,
  "kernelspec": {
   "name": "python38364bitrrlconda6d291919cae2483f99b3d11ebda8fcac",
   "display_name": "Python 3.8.3 64-bit ('rrl': conda)"
  }
 },
 "nbformat": 4,
 "nbformat_minor": 2
}